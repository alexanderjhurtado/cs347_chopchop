{
 "cells": [
  {
   "cell_type": "code",
   "execution_count": 1,
   "id": "24c75fab",
   "metadata": {},
   "outputs": [],
   "source": [
    "import numpy as np\n",
    "import moviepy.editor as mp\n",
    "from moviepy.editor import VideoFileClip\n",
    "\n",
    "import matplotlib.pyplot as plt"
   ]
  },
  {
   "cell_type": "code",
   "execution_count": 2,
   "id": "5bfe10d1",
   "metadata": {},
   "outputs": [],
   "source": [
    "DELTA = 0.01  # length of subclips to sample over\n",
    "AUDIO_FPS = 44100\n",
    "\n",
    "def get_clip_sample(clip, time_idx):\n",
    "    '''\n",
    "    This method takes the original clip, \n",
    "    grabs the subclip of length DELTA (in seconds) starting at time `time_idx` (seconds from start), \n",
    "    and returns an array representing the loudness of that subclip.\n",
    "    \n",
    "    The array can be 2D if the audio is stereo (vs mono). \n",
    "    The length of the array is determined by DELTA and the FPS rate of to_soundarray()\n",
    "    '''\n",
    "    return clip.audio.subclip(time_idx, time_idx+DELTA).to_soundarray(fps=AUDIO_FPS)\n",
    "\n",
    "def get_average_volume(sound_arr):\n",
    "    '''\n",
    "    Returns the average volume of the audio clip given by the loudness array\n",
    "    \n",
    "    The array can be 1D or 2D without issue\n",
    "    '''\n",
    "    return np.sqrt(((1.0*sound_arr)**2).mean())\n",
    "\n",
    "def get_sample_volume(clip, time_idx):\n",
    "    '''\n",
    "    Grabs the average volume of the subclip of length DELTA starting at time `time_idx`\n",
    "    '''\n",
    "    sample = get_clip_sample(clip, time_idx)\n",
    "    return get_average_volume(sample)\n",
    "\n",
    "def get_volume_array(clip):\n",
    "    '''\n",
    "    Takes as many samples of length DELTA across the duration of the clip\n",
    "    and returns an array of those samples' average volumes\n",
    "    '''\n",
    "    return [get_sample_volume(clip, idx) for idx in np.arange(0, clip.audio.duration, DELTA)]"
   ]
  },
  {
   "cell_type": "code",
   "execution_count": 3,
   "id": "6c8f2dd2",
   "metadata": {},
   "outputs": [
    {
     "name": "stdout",
     "output_type": "stream",
     "text": [
      "[(62, 64, 96), (1098, 1119, 1134), (1876, 1879, 1920), (2073, 2076, 2111), (2160, 2170, 2196)]\n",
      "5\n"
     ]
    },
    {
     "data": {
      "image/png": "[encoded data removed]",
      "text/plain": [
       "<Figure size 1080x288 with 1 Axes>"
      ]
     },
     "metadata": {
      "needs_background": "light"
     },
     "output_type": "display_data"
    }
   ],
   "source": [
    "def sound_array_index_to_seconds(index):\n",
    "    return index * DELTA\n",
    "\n",
    "with VideoFileClip(\"./raw.MOV\") as clip:\n",
    "    clip = clip.subclip(0, 30) # TODO: remove this\n",
    "    volumes = get_volume_array(clip)\n",
    "    \n",
    "    median = np.percentile(volumes, 50)\n",
    "    top_perc = np.percentile(volumes, 99)\n",
    "    \n",
    "    top_indices = [idx for idx, vol in enumerate(volumes) if vol >= top_perc]\n",
    "    \n",
    "    top_slices = []\n",
    "    for top_idx in top_indices:\n",
    "        # check if already in a slice\n",
    "        for min_idx, _, max_idx in top_slices:\n",
    "            if top_idx >= min_idx and top_idx <= max_idx:\n",
    "                break\n",
    "        else:\n",
    "            # populate new slice\n",
    "            left_idx = top_idx-1\n",
    "            while volumes[left_idx] > median:\n",
    "                left_idx -= 1\n",
    "            right_idx = top_idx+1\n",
    "            while volumes[right_idx] > median:\n",
    "                right_idx += 1\n",
    "            top_slices.append((left_idx, top_idx, right_idx))\n",
    "    \n",
    "    print(top_slices)\n",
    "    print(len(top_slices))\n",
    "        \n",
    "    \n",
    "    plt.figure(figsize=(15, 4))\n",
    "    plt.axhline(y=top_perc, color='r', linestyle='-')\n",
    "    plt.axhline(y=median, color='g', linestyle='-')\n",
    "\n",
    "    plt.plot([sound_array_index_to_seconds(idx) for idx in range(len(volumes))], volumes)\n",
    "    plt.show()"
   ]
  },
  {
   "cell_type": "code",
   "execution_count": null,
   "id": "b35c0032",
   "metadata": {},
   "outputs": [],
   "source": []
  }
 ],
 "metadata": {
  "kernelspec": {
   "display_name": "environment",
   "language": "python",
   "name": "environment"
  },
  "language_info": {
   "codemirror_mode": {
    "name": "ipython",
    "version": 3
   },
   "file_extension": ".py",
   "mimetype": "text/x-python",
   "name": "python",
   "nbconvert_exporter": "python",
   "pygments_lexer": "ipython3",
   "version": "3.9.9"
  }
 },
 "nbformat": 4,
 "nbformat_minor": 5
}
